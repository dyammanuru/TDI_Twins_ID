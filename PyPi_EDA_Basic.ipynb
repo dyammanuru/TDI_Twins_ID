{
  "nbformat": 4,
  "nbformat_minor": 0,
  "metadata": {
    "colab": {
      "name": "PyPi_EDA_Basic.ipynb",
      "provenance": [],
      "collapsed_sections": [],
      "authorship_tag": "ABX9TyO8gu3HoPg9DIGdhg9hoUNS",
      "include_colab_link": true
    },
    "kernelspec": {
      "name": "python3",
      "display_name": "Python 3"
    }
  },
  "cells": [
    {
      "cell_type": "markdown",
      "metadata": {
        "id": "view-in-github",
        "colab_type": "text"
      },
      "source": [
        "<a href=\"https://colab.research.google.com/github/dyammanuru/TDI_Twins_ID/blob/main/PyPi_EDA_Basic.ipynb\" target=\"_parent\"><img src=\"https://colab.research.google.com/assets/colab-badge.svg\" alt=\"Open In Colab\"/></a>"
      ]
    },
    {
      "cell_type": "code",
      "metadata": {
        "colab": {
          "base_uri": "https://localhost:8080/"
        },
        "id": "Q1KGyBLQfnoE",
        "outputId": "b0cab1fa-5cc4-4d13-8ef9-19bc329744ae"
      },
      "source": [
        "#pypi\r\n",
        "\r\n",
        "!pip install git+https://github.com/Soongja/basic-image-eda"
      ],
      "execution_count": null,
      "outputs": [
        {
          "output_type": "stream",
          "text": [
            "Collecting git+https://github.com/Soongja/basic-image-eda\n",
            "  Cloning https://github.com/Soongja/basic-image-eda to /tmp/pip-req-build-sddbqknw\n",
            "  Running command git clone -q https://github.com/Soongja/basic-image-eda /tmp/pip-req-build-sddbqknw\n",
            "Building wheels for collected packages: basic-image-eda\n",
            "  Building wheel for basic-image-eda (setup.py) ... \u001b[?25l\u001b[?25hdone\n",
            "  Created wheel for basic-image-eda: filename=basic_image_eda-0.0.3-cp36-none-any.whl size=9698 sha256=09bda628035b8c1e2101eec2a5a2ff48341e35774113e07e14a10c1818490981\n",
            "  Stored in directory: /tmp/pip-ephem-wheel-cache-ea_qw279/wheels/99/9a/62/b1003b6a2487fe73d57ccee8081ccacf9ab06ea9f8ddda770c\n",
            "Successfully built basic-image-eda\n",
            "Installing collected packages: basic-image-eda\n",
            "Successfully installed basic-image-eda-0.0.3\n"
          ],
          "name": "stdout"
        }
      ]
    },
    {
      "cell_type": "code",
      "metadata": {
        "colab": {
          "base_uri": "https://localhost:8080/"
        },
        "id": "G1E2C2sonat3",
        "outputId": "b47f6a68-0d60-4d4f-f4e2-58021dfe8ba7"
      },
      "source": [
        "# Run some setup code for this notebook.\r\n",
        "\r\n",
        "from google.colab import drive\r\n",
        "\r\n",
        "#drive.mount('/dyammanuru')\r\n",
        "\r\n",
        "#drive.mount('/content/drive')\r\n",
        "drive.mount(\"/dyammanuru\", force_remount=True)"
      ],
      "execution_count": null,
      "outputs": [
        {
          "output_type": "stream",
          "text": [
            "Mounted at /dyammanuru\n"
          ],
          "name": "stdout"
        }
      ]
    },
    {
      "cell_type": "markdown",
      "metadata": {
        "id": "PR7sSP4tsmPh"
      },
      "source": [
        "https://pypi.org/project/basic-image-eda/\r\n",
        "\r\n",
        "MIT License"
      ]
    },
    {
      "cell_type": "code",
      "metadata": {
        "id": "faFUcdV1oKR3"
      },
      "source": [
        "# %cd /dyammanuru/MyDrive/Twins_ID/Photos/split_photos\r\n",
        "# grant execute permissions to all subfolders/files\r\n",
        "#!chmod 755 -R /dyammanuru/MyDrive/Twins_ID/\r\n",
        "#!basic-image-eda <data_dir>"
      ],
      "execution_count": null,
      "outputs": []
    },
    {
      "cell_type": "code",
      "metadata": {
        "colab": {
          "base_uri": "https://localhost:8080/"
        },
        "id": "k4cXX0X3idHA",
        "outputId": "012a3ff1-1031-4ffa-ca6c-7195a78b9e32"
      },
      "source": [
        "!basic-image-eda /dyammanuru/MyDrive/Twins_ID/Photos/split_photos --dimension_plot --channel_hist --nonzero --hw_division_factor 2.0"
      ],
      "execution_count": null,
      "outputs": [
        {
          "output_type": "stream",
          "text": [
            "\n",
            "found 92 images.\n",
            "Using 2 threads. (max:2)\n",
            "\n",
            "100% 92/92 [00:02<00:00, 43.31it/s]\n",
            "\n",
            "*--------------------------------------------------------------------------------------*\n",
            "number of images                         |  92\n",
            "\n",
            "dtype                                    |  uint8\n",
            "channels                                 |  [3]\n",
            "extensions                               |  ['jpg']\n",
            "\n",
            "min height                               |  178\n",
            "max height                               |  612\n",
            "mean height                              |  421.1630434782609\n",
            "median height                            |  408\n",
            "\n",
            "min width                                |  147\n",
            "max width                                |  306\n",
            "mean width                               |  279.57608695652175\n",
            "median width                             |  306\n",
            "\n",
            "mean height/width ratio                  |  1.5064344310096807\n",
            "median height/width ratio                |  1.3333333333333333\n",
            "recommended input size(by mean)          |  [424 280] (h x w, multiples of 8)\n",
            "recommended input size(by mean)          |  [416 272] (h x w, multiples of 16)\n",
            "recommended input size(by mean)          |  [416 288] (h x w, multiples of 32)\n",
            "\n",
            "channel mean(0~1)                        |  [0.6069128  0.56969625 0.54331654]\n",
            "channel std(0~1)                         |  [0.31828892 0.30724993 0.30954528]\n",
            "                                         |  mean,std were calculated with image heights,widths divided by 2.0\n",
            "*--------------------------------------------------------------------------------------*\n",
            "eda ended in 00 hours 00 minutes 02 seconds\n",
            "<Figure size 800x600 with 1 Axes>\n",
            "<Figure size 1000x600 with 2 Axes>\n"
          ],
          "name": "stdout"
        }
      ]
    }
  ]
}